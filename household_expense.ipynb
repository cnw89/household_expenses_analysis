{
 "cells": [
  {
   "cell_type": "code",
   "execution_count": 1,
   "metadata": {},
   "outputs": [],
   "source": [
    "import pandas as pd\n",
    "\n",
    "\n",
    "INDIR = r'./ons-family-spending/'\n",
    "filename = INDIR + 'A6_precleaned_lesstax.xlsx'\n",
    "sheetname = 0\n",
    "\n",
    "df = pd.read_excel(filename, sheetname, index_col=0, header=0)\n",
    "\n",
    "#delete rows with NaN as index\n",
    "df.dropna(axis='index', inplace=True)\n",
    "\n",
    "#rename column\n",
    "df.rename({'Unnamed: 1':'Name', 'Lowest':1, 'Second': 2, 'Third': 3, 'Fourth':4,\n",
    "    'Fifth':5, 'Sixth':6, 'Seventh':7, 'Eighth': 8, 'Ninth':9, 'Highest': 10}, axis=1, inplace=True)\n",
    "df.rename_axis('id', axis=0, inplace=True)\n",
    "\n",
    "#make all strings numeric\n",
    "df.replace(':', '0.00', inplace=True)\n",
    "df.replace('..', '0.00', inplace=True)\n",
    "df.replace('~', '0.00', inplace=True)\n",
    "\n",
    "for col_idx in range(1, 12):\n",
    "    df[df.columns[col_idx]] = df.iloc[:, col_idx].astype('string').str.extract(r'\\[?(\\d+\\.?\\d*)\\]?', expand=False)\n",
    "    df[df.columns[col_idx]] = df.iloc[:, col_idx].astype('float')\n",
    "\n",
    "#separate indices that are x.x.x, x.x and x\n",
    "df_totals = df[df.index.str.fullmatch('.{1,2}')]\n",
    "df_subtotals = df[df.index.str.fullmatch('.{1,2}\\..')]\n",
    "df_items =  df[df.index.str.fullmatch('.{1,2}\\..\\..{1,2}')]\n",
    "\n",
    "#breakout multi-level indexing\n",
    "item_indexes = df_items.index.str.extract(r'(?P<group_id>.{1,2})\\.(?P<sub_id>.)\\.(?P<item_id>.{1,2})')\n",
    "item_indexes = item_indexes.astype('int')\n",
    "df_items.reset_index(inplace=True)\n",
    "df_items = df_items.join(item_indexes)\n",
    "df_items.set_index(['group_id', 'sub_id', 'item_id'], inplace=True)\n",
    "\n",
    "subtotals_indexes = df_subtotals.index.str.extract(r'(?P<group_id>.{1,2})\\.(?P<sub_id>.)')\n",
    "subtotals_indexes = subtotals_indexes.astype('int')\n",
    "df_subtotals.reset_index(inplace=True)\n",
    "df_subtotals = df_subtotals.join(subtotals_indexes)\n",
    "df_subtotals.set_index(['group_id', 'sub_id'], inplace=True)\n",
    "\n",
    "#not all categories go to third tier of indexing, put missing subtotals into df_items...\n",
    "df_subtotals_copy = df_subtotals.copy(deep=True)\n",
    "df_subtotals_copy.reset_index(inplace=True)\n",
    "df_subtotals_copy['item_id'] = 1\n",
    "df_subtotals_copy.set_index(['group_id', 'sub_id', 'item_id'], inplace=True)\n",
    "df_subtotals_copy = df_subtotals_copy[~df_subtotals_copy.index.isin(df_items.index)]\n",
    "df_items = pd.concat([df_items, df_subtotals_copy])\n",
    "df_items.sort_index(inplace=True)\n",
    "\n",
    "#write to files to allow detailed checking.\n",
    "def write_xlsx(filename, df_totals, df_subtotals, df_items):\n",
    "    xlsx = pd.ExcelWriter(filename)\n",
    "    df_totals.to_excel(xlsx, 'totals')\n",
    "    df_subtotals.to_excel(xlsx, 'subtotals')\n",
    "    df_items.to_excel(xlsx, 'items')\n",
    "    xlsx.close()\n",
    "\n",
    "write_xlsx(INDIR + 'A6.xlsx', df_totals, df_subtotals, df_items)\n",
    "# df_subtotals.drop(columns='id', inplace=True)\n",
    "# df_items.drop(columns='id', inplace=True)"
   ]
  },
  {
   "cell_type": "code",
   "execution_count": 2,
   "metadata": {},
   "outputs": [],
   "source": [
    "number_in_household = [1.3,\t1.5, 1.8, 2.1, 2.4, 2.5, 2.7, 2.8, 3.1, 3.2, 2.3]\n",
    "equivalization_factor = [n ** 0.5 for n in number_in_household]\n",
    "\n",
    "def equivalize(df):\n",
    "\n",
    "    df_equiv = df.copy(deep=True)\n",
    "    for ic, col in enumerate(df.select_dtypes('number')):\n",
    "        \n",
    "        df_equiv.loc[:, col] = df.loc[:, col]/equivalization_factor[ic]\n",
    "    \n",
    "    return df_equiv\n",
    "\n",
    "\n",
    "df_totals_eq, df_subtotals_eq, df_items_eq = map(equivalize, \n",
    "                                    [df_totals, df_subtotals, df_items])\n",
    "write_xlsx(INDIR + 'A6_eq.xlsx', df_totals_eq, df_subtotals_eq, df_items_eq)\n"
   ]
  },
  {
   "cell_type": "code",
   "execution_count": 2,
   "metadata": {},
   "outputs": [],
   "source": [
    "# make percent versions (% of income)\n",
    "def as_percent_of_income(df):\n",
    "    \n",
    "    colsums = df.sum(axis=0, numeric_only=True)\n",
    "\n",
    "    df_pc = df.copy(deep=True)\n",
    "    for col in colsums.index:\n",
    "        df_pc.loc[:, col] = 100 * df.loc[:, col] / colsums[col]\n",
    "    return df_pc\n",
    "\n",
    "df_totals_pc, df_subtotals_pc, df_items_pc = map(as_percent_of_income, \n",
    "                                    [df_totals, df_subtotals, df_items])\n",
    "write_xlsx(INDIR + 'A6_pc.xlsx', df_totals_pc, df_subtotals_pc, df_items_pc)"
   ]
  },
  {
   "cell_type": "code",
   "execution_count": 3,
   "metadata": {},
   "outputs": [],
   "source": [
    "#normalize percent of income by average % for that item\n",
    "def norm_pc(df):\n",
    "\n",
    "    df_norm = df.copy(deep=True)\n",
    "    for col in df.select_dtypes('number'):\n",
    "        \n",
    "        df_norm.loc[:, col] = 100 * df.loc[:, col]/df.loc[:, 'All']\n",
    "\n",
    "    df_norm= df_norm.sort_values(by=[10])\n",
    "    return df_norm\n",
    "\n",
    "df_totals_pc_norm, df_subtotals_pc_norm, df_items_pc_norm = map(\n",
    "    norm_pc, [df_totals_pc, df_subtotals_pc, df_items_pc])\n",
    "\n",
    "write_xlsx(INDIR + 'A6_pc_norm.xlsx', df_totals_pc_norm, df_subtotals_pc_norm, df_items_pc_norm)"
   ]
  },
  {
   "cell_type": "code",
   "execution_count": 4,
   "metadata": {},
   "outputs": [],
   "source": [
    "#find which centile spends the highest and lowest fraction of expenditure on each item\n",
    "def maxmin_centiles(df):\n",
    "    dfcopy = df.copy()\n",
    "    dfcopy.drop('All', axis=1, inplace=True)\n",
    "    maxcent = dfcopy.idxmax(axis=1, skipna=True, numeric_only=True)    \n",
    "    mincent = dfcopy.idxmin(axis=1, skipna=True, numeric_only=True)\n",
    "    maxmincent = pd.concat([df['Name'], mincent, maxcent], axis=1)\n",
    "    maxmincent.rename({0:'min', 1:'max'}, axis=1, inplace=True)\n",
    "    maxmincent = maxmincent.sort_values(by=['max', 'min'], ascending=[True, False])\n",
    "    return maxmincent\n",
    "\n",
    "df_totals_pc_maxmincent, df_subtotals_pc_maxmincent, df_items_pc_maxmincent = map(maxmin_centiles, \n",
    "    [df_totals_pc, df_subtotals_pc, df_items_pc])\n",
    "\n",
    "write_xlsx(INDIR + 'A6_pc_maxmincent.xlsx', df_totals_pc_maxmincent, df_subtotals_pc_maxmincent, df_items_pc_maxmincent)"
   ]
  },
  {
   "cell_type": "code",
   "execution_count": 5,
   "metadata": {},
   "outputs": [],
   "source": [
    "#make long form dataframes for altair plotting\n",
    "meltfun = lambda df, value_name : df.melt(id_vars='Name', var_name='Income Centile', value_name=value_name)\n",
    "\n",
    "df_totals_long, df_totals_pc_long, df_subtotals_long, df_subtotals_pc_long = map(meltfun,\n",
    "    [df_totals, df_totals_pc, df_subtotals, df_subtotals_pc], \n",
    "    ['Expenditure', r'% Expenditure', 'Expenditure', r'% Expenditure']) \n",
    "\n",
    "df_totals_pc_norm_long, df_subtotals_pc_norm_long, df_items_pc_norm_long = map(meltfun, \n",
    "    [df_totals_pc_norm, df_subtotals_pc_norm, df_items_pc_norm],\n",
    "    [r'% of mean proportion of expenditure']*3)\n"
   ]
  },
  {
   "cell_type": "code",
   "execution_count": 6,
   "metadata": {},
   "outputs": [
    {
     "name": "stderr",
     "output_type": "stream",
     "text": [
      "c:\\Users\\mr_cp\\anaconda3\\envs\\data_ml\\lib\\site-packages\\altair\\utils\\core.py:283: FutureWarning: iteritems is deprecated and will be removed in a future version. Use .items instead.\n",
      "  for col_name, dtype in df.dtypes.iteritems():\n"
     ]
    },
    {
     "data": {
      "application/vnd.vegalite.v4+json": {
       "$schema": "https://vega.github.io/schema/vega-lite/v4.8.1.json",
       "config": {
        "view": {
         "continuousHeight": 300,
         "continuousWidth": 400
        }
       },
       "data": {
        "name": "data-964492110585c775bb072d943a3e2b74"
       },
       "datasets": {
        "data-964492110585c775bb072d943a3e2b74": [
         {
          "% Expenditure": 17.078861409239384,
          "Income Centile": 1,
          "Name": "Food & non-alcoholic drinks"
         },
         {
          "% Expenditure": 3.3131124591693886,
          "Income Centile": 1,
          "Name": "Alcoholic drink, tobacco & narcotics"
         },
         {
          "% Expenditure": 1.4932337844143724,
          "Income Centile": 1,
          "Name": "Clothing & footwear"
         },
         {
          "% Expenditure": 25.664955669622024,
          "Income Centile": 1,
          "Name": "Housing (net)1, fuel & power"
         },
         {
          "% Expenditure": 5.9729351376574895,
          "Income Centile": 1,
          "Name": "Household goods & services"
         },
         {
          "% Expenditure": 0.9799346710219318,
          "Income Centile": 1,
          "Name": "Health"
         },
         {
          "% Expenditure": 6.626224918338777,
          "Income Centile": 1,
          "Name": "Transport"
         },
         {
          "% Expenditure": 5.086327578161455,
          "Income Centile": 1,
          "Name": "Communication"
         },
         {
          "% Expenditure": 6.99953336444237,
          "Income Centile": 1,
          "Name": "Recreation & culture"
         },
         {
          "% Expenditure": 0,
          "Income Centile": 1,
          "Name": "Education"
         },
         {
          "% Expenditure": 2.053196453569762,
          "Income Centile": 1,
          "Name": "Restaurants & hotels"
         },
         {
          "% Expenditure": 7.279514699020065,
          "Income Centile": 1,
          "Name": "Miscellaneous goods & services"
         },
         {
          "% Expenditure": 10.21931871208586,
          "Income Centile": 1,
          "Name": "Other expenditure items"
         },
         {
          "% Expenditure": 7.232851143257116,
          "Income Centile": 1,
          "Name": "All other"
         },
         {
          "% Expenditure": 15.974560419004867,
          "Income Centile": 2,
          "Name": "Food & non-alcoholic drinks"
         },
         {
          "% Expenditure": 3.628881406659185,
          "Income Centile": 2,
          "Name": "Alcoholic drink, tobacco & narcotics"
         },
         {
          "% Expenditure": 2.5439580995136555,
          "Income Centile": 2,
          "Name": "Clothing & footwear"
         },
         {
          "% Expenditure": 22.334455667789005,
          "Income Centile": 2,
          "Name": "Housing (net)1, fuel & power"
         },
         {
          "% Expenditure": 6.546950991395437,
          "Income Centile": 2,
          "Name": "Household goods & services"
         },
         {
          "% Expenditure": 1.234567901234568,
          "Income Centile": 2,
          "Name": "Health"
         },
         {
          "% Expenditure": 7.706696595585486,
          "Income Centile": 2,
          "Name": "Transport"
         },
         {
          "% Expenditure": 4.900860456416013,
          "Income Centile": 2,
          "Name": "Communication"
         },
         {
          "% Expenditure": 8.791619902731016,
          "Income Centile": 2,
          "Name": "Recreation & culture"
         },
         {
          "% Expenditure": 0,
          "Income Centile": 2,
          "Name": "Education"
         },
         {
          "% Expenditure": 2.282080059857838,
          "Income Centile": 2,
          "Name": "Restaurants & hotels"
         },
         {
          "% Expenditure": 7.557052001496447,
          "Income Centile": 2,
          "Name": "Miscellaneous goods & services"
         },
         {
          "% Expenditure": 10.175832398054622,
          "Income Centile": 2,
          "Name": "Other expenditure items"
         },
         {
          "% Expenditure": 6.32248410026188,
          "Income Centile": 2,
          "Name": "All other"
         },
         {
          "% Expenditure": 14.893040888166801,
          "Income Centile": 3,
          "Name": "Food & non-alcoholic drinks"
         },
         {
          "% Expenditure": 2.6265908475494175,
          "Income Centile": 3,
          "Name": "Alcoholic drink, tobacco & narcotics"
         },
         {
          "% Expenditure": 2.680747359870024,
          "Income Centile": 3,
          "Name": "Clothing & footwear"
         },
         {
          "% Expenditure": 21.01272678039534,
          "Income Centile": 3,
          "Name": "Housing (net)1, fuel & power"
         },
         {
          "% Expenditure": 6.255077173030057,
          "Income Centile": 3,
          "Name": "Household goods & services"
         },
         {
          "% Expenditure": 1.7871649065800161,
          "Income Centile": 3,
          "Name": "Health"
         },
         {
          "% Expenditure": 10.18142431627403,
          "Income Centile": 3,
          "Name": "Transport"
         },
         {
          "% Expenditure": 4.413755754129434,
          "Income Centile": 3,
          "Name": "Communication"
         },
         {
          "% Expenditure": 7.906850798808557,
          "Income Centile": 3,
          "Name": "Recreation & culture"
         },
         {
          "% Expenditure": 1.0560519902518277,
          "Income Centile": 3,
          "Name": "Education"
         },
         {
          "% Expenditure": 2.328730029786082,
          "Income Centile": 3,
          "Name": "Restaurants & hotels"
         },
         {
          "% Expenditure": 7.744381261846737,
          "Income Centile": 3,
          "Name": "Miscellaneous goods & services"
         },
         {
          "% Expenditure": 10.641754670999186,
          "Income Centile": 3,
          "Name": "Other expenditure items"
         },
         {
          "% Expenditure": 6.471703222312483,
          "Income Centile": 3,
          "Name": "All other"
         },
         {
          "% Expenditure": 14.770158251695557,
          "Income Centile": 4,
          "Name": "Food & non-alcoholic drinks"
         },
         {
          "% Expenditure": 2.7128862094951023,
          "Income Centile": 4,
          "Name": "Alcoholic drink, tobacco & narcotics"
         },
         {
          "% Expenditure": 2.6124089424767654,
          "Income Centile": 4,
          "Name": "Clothing & footwear"
         },
         {
          "% Expenditure": 18.76412961567446,
          "Income Centile": 4,
          "Name": "Housing (net)1, fuel & power"
         },
         {
          "% Expenditure": 6.45566440592816,
          "Income Centile": 4,
          "Name": "Household goods & services"
         },
         {
          "% Expenditure": 1.1303692539562926,
          "Income Centile": 4,
          "Name": "Health"
         },
         {
          "% Expenditure": 8.615925646822408,
          "Income Centile": 4,
          "Name": "Transport"
         },
         {
          "% Expenditure": 4.370761115297665,
          "Income Centile": 4,
          "Name": "Communication"
         },
         {
          "% Expenditure": 6.706857573474003,
          "Income Centile": 4,
          "Name": "Recreation & culture"
         },
         {
          "% Expenditure": 0.47726701833710133,
          "Income Centile": 4,
          "Name": "Education"
         },
         {
          "% Expenditure": 2.5621703089675965,
          "Income Centile": 4,
          "Name": "Restaurants & hotels"
         },
         {
          "% Expenditure": 6.757096206983172,
          "Income Centile": 4,
          "Name": "Miscellaneous goods & services"
         },
         {
          "% Expenditure": 11.504647073599601,
          "Income Centile": 4,
          "Name": "Other expenditure items"
         },
         {
          "% Expenditure": 12.559658377292138,
          "Income Centile": 4,
          "Name": "All other"
         },
         {
          "% Expenditure": 13.139582480556694,
          "Income Centile": 5,
          "Name": "Food & non-alcoholic drinks"
         },
         {
          "% Expenditure": 2.6811297584936553,
          "Income Centile": 5,
          "Name": "Alcoholic drink, tobacco & narcotics"
         },
         {
          "% Expenditure": 2.885796152271797,
          "Income Centile": 5,
          "Name": "Clothing & footwear"
         },
         {
          "% Expenditure": 19.975440032746626,
          "Income Centile": 5,
          "Name": "Housing (net)1, fuel & power"
         },
         {
          "% Expenditure": 5.40319279574294,
          "Income Centile": 5,
          "Name": "Household goods & services"
         },
         {
          "% Expenditure": 1.2893982808022924,
          "Income Centile": 5,
          "Name": "Health"
         },
         {
          "% Expenditure": 9.92632009823987,
          "Income Centile": 5,
          "Name": "Transport"
         },
         {
          "% Expenditure": 4.543593941874745,
          "Income Centile": 5,
          "Name": "Communication"
         },
         {
          "% Expenditure": 7.715923045435941,
          "Income Centile": 5,
          "Name": "Recreation & culture"
         },
         {
          "% Expenditure": 1.125665165779779,
          "Income Centile": 5,
          "Name": "Education"
         },
         {
          "% Expenditure": 2.967662709783054,
          "Income Centile": 5,
          "Name": "Restaurants & hotels"
         },
         {
          "% Expenditure": 6.672124437167418,
          "Income Centile": 5,
          "Name": "Miscellaneous goods & services"
         },
         {
          "% Expenditure": 10.642652476463365,
          "Income Centile": 5,
          "Name": "Other expenditure items"
         },
         {
          "% Expenditure": 11.031518624641834,
          "Income Centile": 5,
          "Name": "All other"
         },
         {
          "% Expenditure": 11.840107944004048,
          "Income Centile": 6,
          "Name": "Food & non-alcoholic drinks"
         },
         {
          "% Expenditure": 2.3950075898127845,
          "Income Centile": 6,
          "Name": "Alcoholic drink, tobacco & narcotics"
         },
         {
          "% Expenditure": 2.0070838252656436,
          "Income Centile": 6,
          "Name": "Clothing & footwear"
         },
         {
          "% Expenditure": 14.555574295834036,
          "Income Centile": 6,
          "Name": "Housing (net)1, fuel & power"
         },
         {
          "% Expenditure": 6.965761511216057,
          "Income Centile": 6,
          "Name": "Household goods & services"
         },
         {
          "% Expenditure": 1.1975037949063922,
          "Income Centile": 6,
          "Name": "Health"
         },
         {
          "% Expenditure": 10.052285376960702,
          "Income Centile": 6,
          "Name": "Transport"
         },
         {
          "% Expenditure": 3.6093776353516613,
          "Income Centile": 6,
          "Name": "Communication"
         },
         {
          "% Expenditure": 8.871647832686794,
          "Income Centile": 6,
          "Name": "Recreation & culture"
         },
         {
          "% Expenditure": 0.2867262607522348,
          "Income Centile": 6,
          "Name": "Education"
         },
         {
          "% Expenditure": 2.8166638556248946,
          "Income Centile": 6,
          "Name": "Restaurants & hotels"
         },
         {
          "% Expenditure": 6.29111148591668,
          "Income Centile": 6,
          "Name": "Miscellaneous goods & services"
         },
         {
          "% Expenditure": 10.89559790858492,
          "Income Centile": 6,
          "Name": "Other expenditure items"
         },
         {
          "% Expenditure": 18.21555068308315,
          "Income Centile": 6,
          "Name": "All other"
         },
         {
          "% Expenditure": 12.137623446957628,
          "Income Centile": 7,
          "Name": "Food & non-alcoholic drinks"
         },
         {
          "% Expenditure": 2.4370818732080277,
          "Income Centile": 7,
          "Name": "Alcoholic drink, tobacco & narcotics"
         },
         {
          "% Expenditure": 2.5007964319847082,
          "Income Centile": 7,
          "Name": "Clothing & footwear"
         },
         {
          "% Expenditure": 12.997769990442814,
          "Income Centile": 7,
          "Name": "Housing (net)1, fuel & power"
         },
         {
          "% Expenditure": 5.415737496017839,
          "Income Centile": 7,
          "Name": "Household goods & services"
         },
         {
          "% Expenditure": 1.226505256451099,
          "Income Centile": 7,
          "Name": "Health"
         },
         {
          "% Expenditure": 11.548263778273334,
          "Income Centile": 7,
          "Name": "Transport"
         },
         {
          "% Expenditure": 3.6476584899649565,
          "Income Centile": 7,
          "Name": "Communication"
         },
         {
          "% Expenditure": 7.693532972284166,
          "Income Centile": 7,
          "Name": "Recreation & culture"
         },
         {
          "% Expenditure": 1.3220770946161198,
          "Income Centile": 7,
          "Name": "Education"
         },
         {
          "% Expenditure": 2.9467983434214715,
          "Income Centile": 7,
          "Name": "Restaurants & hotels"
         },
         {
          "% Expenditure": 6.451099076138897,
          "Income Centile": 7,
          "Name": "Miscellaneous goods & services"
         },
         {
          "% Expenditure": 11.691621535520866,
          "Income Centile": 7,
          "Name": "Other expenditure items"
         },
         {
          "% Expenditure": 17.983434214718063,
          "Income Centile": 7,
          "Name": "All other"
         },
         {
          "% Expenditure": 11.368846931894808,
          "Income Centile": 8,
          "Name": "Food & non-alcoholic drinks"
         },
         {
          "% Expenditure": 2.4005394470667567,
          "Income Centile": 8,
          "Name": "Alcoholic drink, tobacco & narcotics"
         },
         {
          "% Expenditure": 2.508428860418072,
          "Income Centile": 8,
          "Name": "Clothing & footwear"
         },
         {
          "% Expenditure": 12.906271072151045,
          "Income Centile": 8,
          "Name": "Housing (net)1, fuel & power"
         },
         {
          "% Expenditure": 5.637221847606203,
          "Income Centile": 8,
          "Name": "Household goods & services"
         },
         {
          "% Expenditure": 1.3890761968981793,
          "Income Centile": 8,
          "Name": "Health"
         },
         {
          "% Expenditure": 11.813890761968981,
          "Income Centile": 8,
          "Name": "Transport"
         },
         {
          "% Expenditure": 3.465947403910991,
          "Income Centile": 8,
          "Name": "Communication"
         },
         {
          "% Expenditure": 8.37491571139582,
          "Income Centile": 8,
          "Name": "Recreation & culture"
         },
         {
          "% Expenditure": 0.4855023600809171,
          "Income Centile": 8,
          "Name": "Education"
         },
         {
          "% Expenditure": 3.762643290627107,
          "Income Centile": 8,
          "Name": "Restaurants & hotels"
         },
         {
          "% Expenditure": 6.419420094403237,
          "Income Centile": 8,
          "Name": "Miscellaneous goods & services"
         },
         {
          "% Expenditure": 11.476736345246122,
          "Income Centile": 8,
          "Name": "Other expenditure items"
         },
         {
          "% Expenditure": 17.99055967633176,
          "Income Centile": 8,
          "Name": "All other"
         },
         {
          "% Expenditure": 10.083296799649275,
          "Income Centile": 9,
          "Name": "Food & non-alcoholic drinks"
         },
         {
          "% Expenditure": 2.3454625164401577,
          "Income Centile": 9,
          "Name": "Alcoholic drink, tobacco & narcotics"
         },
         {
          "% Expenditure": 2.4331433581762383,
          "Income Centile": 9,
          "Name": "Clothing & footwear"
         },
         {
          "% Expenditure": 10.80666374397194,
          "Income Centile": 9,
          "Name": "Housing (net)1, fuel & power"
         },
         {
          "% Expenditure": 5.863656291100394,
          "Income Centile": 9,
          "Name": "Household goods & services"
         },
         {
          "% Expenditure": 0.8548882069267865,
          "Income Centile": 9,
          "Name": "Health"
         },
         {
          "% Expenditure": 11.595791319596668,
          "Income Centile": 9,
          "Name": "Transport"
         },
         {
          "% Expenditure": 3.090749671196843,
          "Income Centile": 9,
          "Name": "Communication"
         },
         {
          "% Expenditure": 6.937746602367382,
          "Income Centile": 9,
          "Name": "Recreation & culture"
         },
         {
          "% Expenditure": 1.33713283647523,
          "Income Centile": 9,
          "Name": "Education"
         },
         {
          "% Expenditure": 3.364752301622095,
          "Income Centile": 9,
          "Name": "Restaurants & hotels"
         },
         {
          "% Expenditure": 5.7650153441473035,
          "Income Centile": 9,
          "Name": "Miscellaneous goods & services"
         },
         {
          "% Expenditure": 10.63130206049978,
          "Income Centile": 9,
          "Name": "Other expenditure items"
         },
         {
          "% Expenditure": 24.890398947829897,
          "Income Centile": 9,
          "Name": "All other"
         },
         {
          "% Expenditure": 8.86325934118019,
          "Income Centile": 10,
          "Name": "Food & non-alcoholic drinks"
         },
         {
          "% Expenditure": 1.7141954340785215,
          "Income Centile": 10,
          "Name": "Alcoholic drink, tobacco & narcotics"
         },
         {
          "% Expenditure": 2.504147247017932,
          "Income Centile": 10,
          "Name": "Clothing & footwear"
         },
         {
          "% Expenditure": 9.408326092108382,
          "Income Centile": 10,
          "Name": "Housing (net)1, fuel & power"
         },
         {
          "% Expenditure": 5.4190694367643575,
          "Income Centile": 10,
          "Name": "Household goods & services"
         },
         {
          "% Expenditure": 0.8689469942333519,
          "Income Centile": 10,
          "Name": "Health"
         },
         {
          "% Expenditure": 10.103483687495064,
          "Income Centile": 10,
          "Name": "Transport"
         },
         {
          "% Expenditure": 2.48044869262975,
          "Income Centile": 10,
          "Name": "Communication"
         },
         {
          "% Expenditure": 7.654633067382891,
          "Income Centile": 10,
          "Name": "Recreation & culture"
         },
         {
          "% Expenditure": 3.4046923137688605,
          "Income Centile": 10,
          "Name": "Education"
         },
         {
          "% Expenditure": 3.5863812307449248,
          "Income Centile": 10,
          "Name": "Restaurants & hotels"
         },
         {
          "% Expenditure": 5.513863654317087,
          "Income Centile": 10,
          "Name": "Miscellaneous goods & services"
         },
         {
          "% Expenditure": 12.828817442136032,
          "Income Centile": 10,
          "Name": "Other expenditure items"
         },
         {
          "% Expenditure": 25.649735366142668,
          "Income Centile": 10,
          "Name": "All other"
         },
         {
          "% Expenditure": 11.746732303513834,
          "Income Centile": "All",
          "Name": "Food & non-alcoholic drinks"
         },
         {
          "% Expenditure": 2.3934815820743505,
          "Income Centile": "All",
          "Name": "Alcoholic drink, tobacco & narcotics"
         },
         {
          "% Expenditure": 2.461381768799864,
          "Income Centile": "All",
          "Name": "Clothing & footwear"
         },
         {
          "% Expenditure": 14.360889492446104,
          "Income Centile": "All",
          "Name": "Housing (net)1, fuel & power"
         },
         {
          "% Expenditure": 5.856391105075539,
          "Income Centile": "All",
          "Name": "Household goods & services"
         },
         {
          "% Expenditure": 1.137328127652351,
          "Income Centile": "All",
          "Name": "Health"
         },
         {
          "% Expenditure": 10.320828382278052,
          "Income Centile": "All",
          "Name": "Transport"
         },
         {
          "% Expenditure": 3.5477847564080798,
          "Income Centile": "All",
          "Name": "Communication"
         },
         {
          "% Expenditure": 7.7236462400271595,
          "Income Centile": "All",
          "Name": "Recreation & culture"
         },
         {
          "% Expenditure": 1.408928874554405,
          "Income Centile": "All",
          "Name": "Education"
         },
         {
          "% Expenditure": 3.1064335426922423,
          "Income Centile": "All",
          "Name": "Restaurants & hotels"
         },
         {
          "% Expenditure": 6.314717365472756,
          "Income Centile": "All",
          "Name": "Miscellaneous goods & services"
         },
         {
          "% Expenditure": 11.356306229842133,
          "Income Centile": "All",
          "Name": "Other expenditure items"
         },
         {
          "% Expenditure": 18.26515022916313,
          "Income Centile": "All",
          "Name": "All other"
         }
        ]
       },
       "encoding": {
        "color": {
         "field": "Name",
         "scale": {
          "scheme": "Category20"
         },
         "sort": "y",
         "type": "nominal"
        },
        "x": {
         "field": "Income Centile",
         "type": "ordinal"
        },
        "y": {
         "field": "rank",
         "type": "ordinal"
        }
       },
       "mark": {
        "point": true,
        "type": "line"
       },
       "transform": [
        {
         "groupby": [
          "Income Centile"
         ],
         "sort": [
          {
           "field": "% Expenditure",
           "order": "descending"
          }
         ],
         "window": [
          {
           "as": "rank",
           "field": "",
           "op": "rank"
          }
         ]
        }
       ]
      },
      "text/plain": [
       "<VegaLite 4 object>\n",
       "\n",
       "If you see this message, it means the renderer has not been properly enabled\n",
       "for the frontend that you are using. For more information, see\n",
       "https://altair-viz.github.io/user_guide/troubleshooting.html\n"
      ]
     },
     "execution_count": 6,
     "metadata": {},
     "output_type": "execute_result"
    }
   ],
   "source": [
    "import altair as alt\n",
    "\n",
    "alt.renderers.enable(\"mimetype\")\n",
    "\n",
    "def plot_bump_chart(df):\n",
    "    \n",
    "    lastcolname = df.columns.values[-1]\n",
    "    \n",
    "    thischart = alt.Chart(df).mark_line(point = True).encode(\n",
    "        x = alt.X(\"Income Centile:O\"),\n",
    "        y=\"rank:O\",\n",
    "        color=alt.Color(\"Name:N\", sort='y', scale=alt.Scale(scheme='Category20'))\n",
    "    ).transform_window(\n",
    "        rank=\"rank()\",\n",
    "        sort=[alt.SortField(lastcolname, order=\"descending\")],\n",
    "        groupby=[\"Income Centile\"]\n",
    "    )\n",
    "    return thischart\n",
    "    # .properties(\n",
    "    #     title=\"Bump Chart for Stock Prices\",\n",
    "    #     width=600,\n",
    "    #     height=150,\n",
    "    # )\n",
    "\n",
    "thischart = plot_bump_chart(df_totals_pc_long)\n",
    "thischart"
   ]
  }
 ],
 "metadata": {
  "kernelspec": {
   "display_name": "Python 3.9.13 ('data_ml')",
   "language": "python",
   "name": "python3"
  },
  "language_info": {
   "codemirror_mode": {
    "name": "ipython",
    "version": 3
   },
   "file_extension": ".py",
   "mimetype": "text/x-python",
   "name": "python",
   "nbconvert_exporter": "python",
   "pygments_lexer": "ipython3",
   "version": "3.9.13 (main, Oct 13 2022, 21:23:06) [MSC v.1916 64 bit (AMD64)]"
  },
  "orig_nbformat": 4,
  "vscode": {
   "interpreter": {
    "hash": "0724d97e014e58685d93bf491360ef03eff48b462251ad44cd797269dea9d242"
   }
  }
 },
 "nbformat": 4,
 "nbformat_minor": 2
}
